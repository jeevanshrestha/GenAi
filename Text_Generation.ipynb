{
  "nbformat": 4,
  "nbformat_minor": 0,
  "metadata": {
    "colab": {
      "provenance": [],
      "authorship_tag": "ABX9TyNqA7ZSXg/fcS26aaeWPyjw",
      "include_colab_link": true
    },
    "kernelspec": {
      "name": "python3",
      "display_name": "Python 3"
    },
    "language_info": {
      "name": "python"
    }
  },
  "cells": [
    {
      "cell_type": "markdown",
      "metadata": {
        "id": "view-in-github",
        "colab_type": "text"
      },
      "source": [
        "<a href=\"https://colab.research.google.com/github/jeevanshrestha/GenAi/blob/main/Text_Generation.ipynb\" target=\"_parent\"><img src=\"https://colab.research.google.com/assets/colab-badge.svg\" alt=\"Open In Colab\"/></a>"
      ]
    },
    {
      "cell_type": "code",
      "source": [
        "!pip install -q  langchain-huggingface"
      ],
      "metadata": {
        "id": "BPbnZHAflrqc",
        "colab": {
          "base_uri": "https://localhost:8080/"
        },
        "outputId": "43bcac92-548b-455b-9b72-1b244643aed4"
      },
      "execution_count": 6,
      "outputs": [
        {
          "output_type": "stream",
          "name": "stdout",
          "text": [
            "\u001b[?25l   \u001b[90m━━━━━━━━━━━━━━━━━━━━━━━━━━━━━━━━━━━━━━━━\u001b[0m \u001b[32m0.0/438.1 kB\u001b[0m \u001b[31m?\u001b[0m eta \u001b[36m-:--:--\u001b[0m\r\u001b[2K   \u001b[90m━━━━━━━━━━━━━━━━━━━━━━━━━━━━━━━━━━━━━━━━\u001b[0m \u001b[32m438.1/438.1 kB\u001b[0m \u001b[31m15.3 MB/s\u001b[0m eta \u001b[36m0:00:00\u001b[0m\n",
            "\u001b[?25h\u001b[?25l   \u001b[90m━━━━━━━━━━━━━━━━━━━━━━━━━━━━━━━━━━━━━━━━\u001b[0m \u001b[32m0.0/363.0 kB\u001b[0m \u001b[31m?\u001b[0m eta \u001b[36m-:--:--\u001b[0m\r\u001b[2K   \u001b[90m━━━━━━━━━━━━━━━━━━━━━━━━━━━━━━━━━━━━━━━━\u001b[0m \u001b[32m363.0/363.0 kB\u001b[0m \u001b[31m25.6 MB/s\u001b[0m eta \u001b[36m0:00:00\u001b[0m\n",
            "\u001b[?25h"
          ]
        }
      ]
    },
    {
      "cell_type": "code",
      "source": [
        "from google.colab import userdata\n",
        "import os\n",
        "hf_key = userdata.get('HF_TOKEN')\n",
        "os.environ['HUGGINGFACEHUB_API_TOKEN'] = hf_key"
      ],
      "metadata": {
        "id": "FYV9NG5WHfEV"
      },
      "execution_count": 4,
      "outputs": []
    },
    {
      "cell_type": "code",
      "source": [
        "# Import the libraries\n",
        "\n",
        "from langchain_huggingface import ChatHuggingFace, HuggingFaceEndpoint\n",
        "from langchain_core.messages import (HumanMessage, SystemMessage)\n",
        "from IPython.display import Markdown, display\n",
        "\n"
      ],
      "metadata": {
        "id": "N_JjCtn6HqIW"
      },
      "execution_count": 7,
      "outputs": []
    },
    {
      "cell_type": "code",
      "source": [
        "repo_id = \"microsoft/phi-4\"\n",
        "\n"
      ],
      "metadata": {
        "id": "kRPNlvywH7JX"
      },
      "execution_count": 8,
      "outputs": []
    },
    {
      "cell_type": "code",
      "source": [
        "#repo_id2 = \"microsoft/phi-4\"\n",
        "llm = HuggingFaceEndpoint(\n",
        "    repo_id = repo_id,\n",
        "    task = \"generated_text\")\n",
        "chat_model = ChatHuggingFace(llm = llm)\n",
        ""
      ],
      "metadata": {
        "id": "yc6vK_rnKRNl"
      },
      "execution_count": 23,
      "outputs": []
    },
    {
      "cell_type": "code",
      "source": [
        "ai_message = chat_model.invoke(\"What is the best time to Japan?\")"
      ],
      "metadata": {
        "id": "k49WKaYhKVM7"
      },
      "execution_count": 25,
      "outputs": []
    },
    {
      "cell_type": "code",
      "source": [
        "display(Markdown(ai_message.content))"
      ],
      "metadata": {
        "colab": {
          "base_uri": "https://localhost:8080/",
          "height": 301
        },
        "id": "dNt7gsRWKrSE",
        "outputId": "cf8802ab-11ff-4c2e-8899-6f148f0ce6e9"
      },
      "execution_count": 26,
      "outputs": [
        {
          "output_type": "display_data",
          "data": {
            "text/plain": [
              "<IPython.core.display.Markdown object>"
            ],
            "text/markdown": "The best time to visit Japan depends largely on what you want to experience, as each season offers unique attractions and weather conditions:\n\n1. **Spring (March to May)**: This is perhaps the most popular time to visit. The cherry blossoms are in full bloom around late March to early April, making this a beautiful time for sightseeing. Other spring events include Golden Week (late April to early May), which is a series of national holidays, and the Takayama Spring Festival.\n\n2. **Summer (June to August)**: If you're interested in festivals, summer is vibrant with events like the Gion Matsuri in Kyoto (July) and the Sapporo Summer Festival (August). However, it can be hot and humid, especially in cities like Tokyo and Osaka. Summer also brings typhoon season, so it's wise to monitor weather conditions.\n\n3. **Autumn (September to November)**: Fall offers pleasant weather and stunning foliage, particularly from October to early November. Koyo (viewing autumn leaves) tours are popular, and visitors can enjoy autumn festivals that light up the season.\n\n4. **Winter (December to February)**: Winter brings snow to parts of Japan, making it a great time to visit ski resorts in Hokkaido and the Japanese Alps. Winter festivals, such as the Sapporo Snow Festival, are also highlights. For those who enjoy the holiday season, you can experience the Japanese New Year and traditions associated with it.\n\nEach season has its appeal, so the best time to visit Japan depends on your interests and activities you'd like to pursue."
          },
          "metadata": {}
        }
      ]
    },
    {
      "cell_type": "markdown",
      "source": [
        "### Generate with System Message"
      ],
      "metadata": {
        "id": "5h4QtNo8LB0b"
      }
    },
    {
      "cell_type": "code",
      "source": [
        "# Defining system and human message\n",
        "human_message = \"Explain  USA and Israel\"\n",
        "system_message = \"You are Physics PhD Professor teaching PhD students about inernation relationship\""
      ],
      "metadata": {
        "id": "mVZ8kUbqLD9r"
      },
      "execution_count": 15,
      "outputs": []
    },
    {
      "cell_type": "code",
      "source": [
        "# Set up the inputs for the LLM\n",
        "messages = [\n",
        "    SystemMessage(content = system_message),\n",
        "    HumanMessage(content = human_message)\n",
        "]\n",
        "messages"
      ],
      "metadata": {
        "colab": {
          "base_uri": "https://localhost:8080/"
        },
        "id": "fdToYjabLGuK",
        "outputId": "48ec24e8-6f8b-41e7-a5cc-f1a4f74a40d7"
      },
      "execution_count": 16,
      "outputs": [
        {
          "output_type": "execute_result",
          "data": {
            "text/plain": [
              "[SystemMessage(content='You are Physics PhD Professor teaching PhD students about inernation relationship', additional_kwargs={}, response_metadata={}),\n",
              " HumanMessage(content='Explain  USA and Israel', additional_kwargs={}, response_metadata={})]"
            ]
          },
          "metadata": {},
          "execution_count": 16
        }
      ]
    },
    {
      "cell_type": "code",
      "source": [
        "llm = HuggingFaceEndpoint(\n",
        "    repo_id = repo_id,\n",
        "    task = \"generated_text\",\n",
        "    temperature = 1.2,\n",
        "    max_new_tokens=500,\n",
        "    cache = False)\n",
        "chat_model = ChatHuggingFace(llm = llm)"
      ],
      "metadata": {
        "id": "4C6MHOlelgCp"
      },
      "execution_count": 19,
      "outputs": []
    },
    {
      "cell_type": "code",
      "source": [
        "ai_message = chat_model.invoke(messages)\n",
        "display(Markdown(ai_message.content))"
      ],
      "metadata": {
        "colab": {
          "base_uri": "https://localhost:8080/",
          "height": 847
        },
        "id": "cNNdaDJZLKUq",
        "outputId": "8f8999e4-63cc-450e-f255-294ece261a1f"
      },
      "execution_count": 20,
      "outputs": [
        {
          "output_type": "display_data",
          "data": {
            "text/plain": [
              "<IPython.core.display.Markdown object>"
            ],
            "text/markdown": "The relationship between the United States and Israel is a multifaceted and influential international partnership characterized by strategic, diplomatic, cultural, and economic dimensions. Here’s a detailed overview:\n\n1. **Historical Context**:\n   - **Foundation and Support:** The United States officially recognized Israel shortly after its declaration of independence in 1948, establishing diplomatic relations in 1949. The U.S. has been a key ally of Israel ever since.\n   - **The Six-Day War (1967):** Though not directly involved, the U.S. supported Israel during the Six-Day War and subsequent conflicts, affirming political and military backing. This marked the beginning of a more intensive strategic relationship.\n\n2. **Security Cooperation**:\n   - **Military Aid and Defense:** The U.S. provides significant military aid to Israel, including financial support and advanced technology. This aid contributes to Israel's qualitative military edge in the region.\n   - **Joint Exercises and Intelligence Sharing:** The two countries conduct joint military exercises and share intelligence, enhancing compatibility and strategic coordination.\n   - **Defensive Agreements:** Key agreements, like those involving missile defense systems (e.g., Iron Dome, David's Sling, and Arrow), highlight the importance of collaborative defense efforts.\n\n3. **Political and Diplomatic Relations**:\n   - **Bipartisan Support in the U.S.:** Support for Israel is generally bipartisan in the U.S., with strong backing in Congress and political parties. This has been a constant even amidst differing views on specific policies.\n   - **U.S. Involvement in Peace Processes:** The U.S. has played a prominent role in the peace process within the Middle East, attempting to mediate between Israel and its neighbors, including the Palestinians.\n\n4. **Economic and Technological Collaboration**:\n   - **Trade and Investment:** There is significant economic interaction between the U.S. and Israel, with robust trade and investment in sectors like technology, agriculture, and energy.\n   - **Innovation and Science:** Israel is often referred to as a \"start-up nation,\" and U.S.-Israel collaborations are strong in technology, research, and development, often leading to advancements in fields like cybersecurity, medicine, and engineering.\n\n5. **Cultural and People-to-People Ties**:\n   - **Tourism and Education:** There is significant cultural exchange facilitated by tourism, academic exchanges, and the sizeable Jewish community in the U.S.\n   - **Shared Values**: Both nations share democratic values and are committed to combating global terrorism and promoting human rights, which strengthens societal ties.\n\n6. **Challenges and Criticisms**:\n   - **Israeli-Palestinian Conflict:** Despite strong backing, U.S. support for Israel has often been controversial domestically, particularly regarding policies affecting Palestinians.\n   - **Settlements and Human Rights**: The expansion of Israeli settlements in occupied territories has been a contentious issue, prompting criticism both internationally and within some U.S. circles.\n\n7. **Recent Developments**:\n   - **Normalization Agreements (Abraham Accords)**: Initiated by the U.S. in 2020, these agreements normalized relations between Israel and several Arab states, marking a significant shift in regional dynamics.\n   - **Response to Regional Threats**: As security threats in the Middle East evolve, both nations continue to adjust their strategic and defense postures to address shared concerns, such as Iranian influence and terrorism.\n\nOverall, the U.S.-Israel relationship is one of the most strategic and longstanding in the international arena. It consistently adapts to new global challenges but continues to rest on historical ties, mutual security interests, and alignment in democratic ideals."
          },
          "metadata": {}
        }
      ]
    },
    {
      "cell_type": "markdown",
      "source": [
        "### Text Generation with parameter\n"
      ],
      "metadata": {
        "id": "Gt5zEbZAkqy5"
      }
    },
    {
      "cell_type": "code",
      "source": [
        "# Defining system and human message\n",
        "human_message = \"id:z4u6io576ü848. Teach me relatoinship between USA and ISrael\"\n",
        "system_message = \"You are a 4th grade teacher teaching kids\"\n",
        "# Set up the inputs for the LLM\n",
        "messages = [\n",
        "    SystemMessage(content = system_message),\n",
        "    HumanMessage(content = human_message)\n",
        "]"
      ],
      "metadata": {
        "id": "K5Z6ISfskqPi"
      },
      "execution_count": 21,
      "outputs": []
    },
    {
      "cell_type": "code",
      "source": [
        "llm = HuggingFaceEndpoint(\n",
        "    repo_id = repo_id,\n",
        "    task = \"generated_text\",\n",
        "    temperature = 1.2,\n",
        "    max_new_tokens=500,\n",
        "    cache = False)\n",
        "chat_model2 = ChatHuggingFace(llm = llm)\n",
        "ai_msg = chat_model2.invoke(messages)\n",
        "display(Markdown(ai_msg.content))"
      ],
      "metadata": {
        "colab": {
          "base_uri": "https://localhost:8080/",
          "height": 307
        },
        "id": "ZHUsvVL_keft",
        "outputId": "dfae6fbe-150b-497b-a9b5-3a7546c63042"
      },
      "execution_count": 22,
      "outputs": [
        {
          "output_type": "display_data",
          "data": {
            "text/plain": [
              "<IPython.core.display.Markdown object>"
            ],
            "text/markdown": "Sure! The relationship between the United States and Israel is an important one, and it involves many different aspects like politics, culture, and support.\n\n1. **History**: The United States officially recognized Israel as a country in 1948, just after it became an independent nation. Over the years, the two countries have developed a friendly relationship.\n\n2. **Support**: The United States is a strong supporter of Israel. This means that the U.S. often provides military aid and economic assistance to help protect and support Israel. Many people in the U.S. also express appreciation for Israel.\n\n3. **Cultural and Social Ties**: Many people in both countries share cultural connections and values, such as ideas about democracy and freedom. This makes them closer in a cultural sense.\n\n4. **Diplomacy and Politics**: Sometimes, the U.S. and Israel work together on international political matters, such as promoting peace in the Middle East. Leaders from both countries often meet to discuss how they can continue their partnership.\n\n5. **Trade and Business**: There is also a lot of business and trade between the two nations. Companies in both countries often work together or exchange ideas and products.\n\nUnderstanding international relationships can be complex, but it's important to know that countries work together in many ways to promote peace, safety, and understanding around the world."
          },
          "metadata": {}
        }
      ]
    },
    {
      "cell_type": "code",
      "source": [],
      "metadata": {
        "id": "HWLXct8KlvCo"
      },
      "execution_count": null,
      "outputs": []
    }
  ]
}