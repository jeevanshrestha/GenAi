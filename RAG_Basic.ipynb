{
  "nbformat": 4,
  "nbformat_minor": 0,
  "metadata": {
    "colab": {
      "provenance": [],
      "authorship_tag": "ABX9TyMAZ5eiyRjdiAJS2vS/sau/",
      "include_colab_link": true
    },
    "kernelspec": {
      "name": "python3",
      "display_name": "Python 3"
    },
    "language_info": {
      "name": "python"
    }
  },
  "cells": [
    {
      "cell_type": "markdown",
      "metadata": {
        "id": "view-in-github",
        "colab_type": "text"
      },
      "source": [
        "<a href=\"https://colab.research.google.com/github/jeevanshrestha/GenAi/blob/main/RAG_Basic.ipynb\" target=\"_parent\"><img src=\"https://colab.research.google.com/assets/colab-badge.svg\" alt=\"Open In Colab\"/></a>"
      ]
    },
    {
      "cell_type": "markdown",
      "source": [
        "## BASIC RAG SYSTEM"
      ],
      "metadata": {
        "id": "NLjaHaEgvH-o"
      }
    },
    {
      "cell_type": "code",
      "source": [
        "!pip install huggingface_hub langchain-huggingface -q"
      ],
      "metadata": {
        "id": "mQcuG6U9t2oI"
      },
      "execution_count": 61,
      "outputs": []
    },
    {
      "cell_type": "code",
      "source": [
        "!pip install langchain langchain_community faiss-cpu -q"
      ],
      "metadata": {
        "id": "MtycTg3XuMia"
      },
      "execution_count": 62,
      "outputs": []
    },
    {
      "cell_type": "code",
      "execution_count": 63,
      "metadata": {
        "id": "h8ym1OuCtmNf"
      },
      "outputs": [],
      "source": [
        "from google.colab import userdata\n",
        "hf_key = userdata.get('HF_TOKEN')"
      ]
    },
    {
      "cell_type": "code",
      "source": [
        "\n",
        "import os\n",
        "os.environ['HUGGINGFACEHUB_API_TOKEN'] = hf_key"
      ],
      "metadata": {
        "id": "5upD13BxtvPV"
      },
      "execution_count": 64,
      "outputs": []
    },
    {
      "cell_type": "code",
      "source": [
        "# Import the libraries\n",
        "from langchain.docstore.document import Document\n",
        "from langchain.vectorstores.faiss import FAISS\n",
        "from langchain_core.messages import HumanMessage, SystemMessage\n",
        "from langchain_huggingface import HuggingFaceEmbeddings, ChatHuggingFace, HuggingFaceEndpoint\n",
        "from IPython.display import display, Markdown"
      ],
      "metadata": {
        "id": "uWi_U-oat5e5"
      },
      "execution_count": 65,
      "outputs": []
    },
    {
      "cell_type": "markdown",
      "source": [
        "### Embeddings"
      ],
      "metadata": {
        "id": "0By__kj0vEwZ"
      }
    },
    {
      "cell_type": "code",
      "source": [
        "# Sample dataset with 30 facts about Berlin\n",
        "documents = [\n",
        "    \"Berlin is the capital and largest city of Germany by both area and population.\",\n",
        "    \"Berlin is known for its art scene and modern landmarks like the Berliner Philharmonie.\",\n",
        "    \"The Berlin Wall, which divided the city from 1961 to 1989, was a significant Cold War symbol.\",\n",
        "    \"Berlin has more bridges than Venice, with around 1,700 bridges.\",\n",
        "    \"The city's Zoological Garden is the most visited zoo in Europe and one of the most popular worldwide.\",\n",
        "    \"Berlin's Museum Island is a UNESCO World Heritage site with five world-renowned museums.\",\n",
        "    \"The Reichstag building houses the German Bundestag (Federal Parliament).\",\n",
        "    \"Berlin is famous for its diverse architecture, ranging from historic buildings to modern structures.\",\n",
        "    \"The Berlin Marathon is one of the world's largest and most popular marathons.\",\n",
        "    \"Berlin's public transportation system includes buses, trams, U-Bahn (subway), and S-Bahn (commuter train).\",\n",
        "    \"The Brandenburg Gate is an iconic neoclassical monument in Berlin.\",\n",
        "    \"Berlin has a thriving startup ecosystem and is considered a major tech hub in Europe.\",\n",
        "    \"The city hosts the Berlinale, one of the most prestigious international film festivals.\",\n",
        "    \"Berlin has more than 180 kilometers of navigable waterways.\",\n",
        "    \"The East Side Gallery is an open-air gallery on a remaining section of the Berlin Wall.\",\n",
        "    \"Berlin's Tempelhofer Feld, a former airport, is now a public park and recreational area.\",\n",
        "    \"The TV Tower at Alexanderplatz offers panoramic views of the city.\",\n",
        "    \"Berlin's Tiergarten is one of the largest urban parks in Germany.\",\n",
        "    \"Checkpoint Charlie was a famous crossing point between East and West Berlin during the Cold War.\",\n",
        "    \"Berlin is home to numerous theaters, including the Berliner Ensemble and the Volksbühne.\",\n",
        "    \"The Berlin Philharmonic Orchestra is one of the most famous orchestras in the world.\",\n",
        "    \"Berlin has a vibrant nightlife scene, with countless bars, clubs, and music venues.\",\n",
        "    \"The Berlin Cathedral is a major Protestant church and a landmark of the city.\",\n",
        "    \"Charlottenburg Palace is the largest palace in Berlin and a major tourist attraction.\",\n",
        "    \"Berlin's Alexanderplatz is a large public square and transport hub in central Berlin.\",\n",
        "    \"Berlin is known for its street art, with many murals and graffiti artworks around the city.\",\n",
        "    \"The Gendarmenmarkt is a historic square in Berlin featuring the Konzerthaus, French Cathedral, and German Cathedral.\",\n",
        "    \"Berlin has a strong coffee culture, with numerous cafés throughout the city.\",\n",
        "    \"The Berlin TV Tower is the tallest structure in Germany, standing at 368 meters.\",\n",
        "    \"Berlin's KaDeWe is one of the largest and most famous department stores in Europe.\",\n",
        "    \"The Berlin U-Bahn network has 10 lines and serves 173 stations.\",\n",
        "    \"Berlin has a population of over 3.6 million people.\",\n",
        "    \"The city of Berlin covers an area of 891.8 square kilometers.\",\n",
        "    \"Berlin has a temperate seasonal climate.\",\n",
        "    \"The Berlin International Film Festival, also known as the Berlinale, is one of the world's leading film festivals.\",\n",
        "    \"Berlin is home to the Humboldt University, founded in 1810.\",\n",
        "    \"The Berlin Hauptbahnhof is the largest train station in Europe.\",\n",
        "    \"Berlin's Tegel Airport closed in 2020, and operations moved to Berlin Brandenburg Airport.\",\n",
        "    \"The Spree River runs through the center of Berlin.\",\n",
        "    \"Berlin is twinned with Los Angeles, California, USA.\",\n",
        "    \"The Berlin Botanical Garden is one of the largest and most important botanical gardens in the world.\",\n",
        "    \"Berlin has over 2,500 public parks and gardens.\",\n",
        "    \"The Victory Column (Siegessäule) is a famous monument in Berlin.\",\n",
        "    \"Berlin's Olympic Stadium was built for the 1936 Summer Olympics.\",\n",
        "    \"The Berlin State Library is one of the largest libraries in Europe.\",\n",
        "    \"The Berlin Dungeon is a popular tourist attraction that offers a spooky look at the city's history.\",\n",
        "    \"Berlin's economy is based on high-tech industries and the service sector.\",\n",
        "    \"Berlin is a major center for culture, politics, media, and science.\",\n",
        "    \"The Berlin Wall Memorial commemorates the division of Berlin and the victims of the Wall.\",\n",
        "    \"The city has a large Turkish community, with many residents of Turkish descent.\",\n",
        "    \"Berlin's Mauerpark is a popular park known for its flea market and outdoor karaoke sessions.\",\n",
        "    \"The Berlin Zoological Garden is the oldest zoo in Germany, opened in 1844.\",\n",
        "    \"Berlin is known for its diverse culinary scene, including many vegan and vegetarian restaurants.\",\n",
        "    \"The Berliner Dom is a baroque-style cathedral located on Museum Island.\",\n",
        "    \"The DDR Museum in Berlin offers interactive exhibits about life in East Germany.\",\n",
        "    \"Berlin has a strong cycling culture, with many dedicated bike lanes and bike-sharing programs.\",\n",
        "    \"Berlin's Tempodrom is a multi-purpose event venue known for its unique architecture.\",\n",
        "    \"The Berlinische Galerie is a museum of modern art, photography, and architecture.\",\n",
        "    \"Berlin's Volkspark Friedrichshain is the oldest public park in the city, established in 1848.\",\n",
        "    \"The Hackesche Höfe is a complex of interconnected courtyards in Berlin's Mitte district, known for its vibrant nightlife and art scene.\",\n",
        "    \"Berlin's International Congress Center (ICC) is one of the largest conference centers in the world.\"\n",
        "]"
      ],
      "metadata": {
        "id": "raEyJLpFu9fL"
      },
      "execution_count": 66,
      "outputs": []
    },
    {
      "cell_type": "code",
      "source": [
        "#Wrat each string in a Document\n",
        "docs = [Document(page_content=text) for text in documents]"
      ],
      "metadata": {
        "id": "fh-Nuy_PvVVA"
      },
      "execution_count": 67,
      "outputs": []
    },
    {
      "cell_type": "code",
      "source": [
        "# Use a transformer-based embeding model\n",
        "\n",
        "embedding_model = HuggingFaceEmbeddings(model_name=\"sentence-transformers/all-MiniLM-L6-v2\")\n"
      ],
      "metadata": {
        "id": "5887GtmJvmbQ"
      },
      "execution_count": 68,
      "outputs": []
    },
    {
      "cell_type": "code",
      "source": [
        "#Create a FAISS Vector store for the document\n",
        "faiss_store = FAISS.from_documents(docs, embedding_model)"
      ],
      "metadata": {
        "id": "Xdr-GpdGvzK4"
      },
      "execution_count": 69,
      "outputs": []
    },
    {
      "cell_type": "code",
      "source": [
        "index = faiss_store.index\n",
        "#print total number of  indexes\n",
        "print(f\"Total number of indexes: {index.ntotal}\")\n",
        "#print total number of dimensions\n",
        "print(f\"Total number of dimensions: {index.d}\")\n"
      ],
      "metadata": {
        "colab": {
          "base_uri": "https://localhost:8080/"
        },
        "id": "wdW1rYRlwH4g",
        "outputId": "3de5d339-bbc5-47b7-d1f6-5d09f9a78385"
      },
      "execution_count": 70,
      "outputs": [
        {
          "output_type": "stream",
          "name": "stdout",
          "text": [
            "Total number of indexes: 61\n",
            "Total number of dimensions: 384\n"
          ]
        }
      ]
    },
    {
      "cell_type": "code",
      "source": [
        "#Print Embeddings for the first vector\n",
        "print(f\"Total number of dimensions: {index.reconstruct(0)}\")\n"
      ],
      "metadata": {
        "colab": {
          "base_uri": "https://localhost:8080/"
        },
        "collapsed": true,
        "id": "Hr8G--fywMuX",
        "outputId": "76fa2aad-26de-404a-a1f9-c2e1cb302f84"
      },
      "execution_count": 71,
      "outputs": [
        {
          "output_type": "stream",
          "name": "stdout",
          "text": [
            "Total number of dimensions: [ 1.18008181e-01  9.62400623e-03  7.45549260e-05  6.32339194e-02\n",
            " -2.39326581e-02  4.44220491e-02  1.75688192e-02  6.37613162e-02\n",
            " -5.20782731e-02 -4.48406711e-02 -2.30849478e-02 -8.38880986e-02\n",
            "  9.74922255e-03 -5.83157502e-03  1.98498871e-02  1.62949692e-02\n",
            "  2.16739513e-02 -2.26910524e-02  1.57331116e-02 -2.59717535e-02\n",
            " -4.10241075e-02 -7.23726153e-02  4.70127724e-02 -7.39880651e-02\n",
            " -1.32866837e-02  2.28873417e-02 -1.45714171e-02  3.07514943e-04\n",
            " -8.66817962e-03  1.65497679e-02  8.56067538e-02 -7.37445103e-03\n",
            "  8.09205920e-02 -9.39618703e-03  4.42894138e-02 -8.47967714e-02\n",
            " -3.28520462e-02  2.02675443e-02  3.13011147e-02  1.87975448e-02\n",
            " -6.40172437e-02  2.46382393e-02 -3.80461179e-02  3.63191739e-02\n",
            "  2.28700098e-02  8.67470726e-03  5.09395152e-02  5.86185046e-02\n",
            " -3.09906658e-02  2.19107680e-02  5.17016873e-02 -1.79522410e-02\n",
            "  1.19532337e-02  1.07144110e-01  2.65640859e-02  1.15587628e-02\n",
            " -1.40993744e-02 -1.44472346e-02 -1.18030468e-02 -3.54296602e-02\n",
            " -3.96986902e-02 -2.53515840e-02 -2.00909954e-02 -4.01343554e-02\n",
            "  3.38030718e-02  2.66659018e-02  2.52289511e-02  3.31045538e-02\n",
            " -3.29747684e-02  2.89550051e-02  8.73403773e-02 -6.88216612e-02\n",
            " -5.44116274e-02  3.00422702e-02  9.41548944e-02 -1.64161459e-01\n",
            " -8.75020847e-02  1.28241526e-02  6.01520725e-02  4.03995402e-02\n",
            " -6.06132783e-02  8.54695868e-03 -7.00901747e-02  5.99118043e-03\n",
            " -7.35199824e-02 -3.81493978e-02  2.60838494e-03 -5.38498582e-03\n",
            "  1.66215003e-02  2.49903034e-02 -1.59431696e-02  5.37186079e-02\n",
            " -3.25241089e-02 -1.80174056e-02 -8.19640607e-02  1.37388417e-02\n",
            " -1.07136462e-02  5.19740358e-02  6.87237233e-02 -2.92742532e-02\n",
            "  5.88204712e-03 -7.65900686e-02  8.88825580e-02 -2.82364022e-02\n",
            " -9.57175996e-03 -7.97636509e-02 -8.24173354e-03  3.66539247e-02\n",
            "  1.13194892e-02 -8.84443223e-02  7.73506192e-03 -3.31879081e-03\n",
            " -3.68513279e-02  7.39043877e-02  7.88330846e-03  1.35514233e-02\n",
            "  1.19499348e-01 -3.34396474e-02 -5.50742932e-02 -9.90813319e-03\n",
            "  1.99415926e-02 -9.39715840e-03 -2.64754966e-02  6.41464964e-02\n",
            " -6.49845973e-02  8.00394639e-03  4.77217464e-03 -7.17189454e-33\n",
            " -9.64860618e-02 -1.21032521e-01  2.02790718e-03  9.43786651e-02\n",
            " -6.92671090e-02  6.24994338e-02  1.01171713e-02  6.63393587e-02\n",
            " -5.99722490e-02  6.32181112e-03  1.57066702e-03 -1.20256901e-01\n",
            "  5.25718331e-02  5.69047183e-02  6.27806708e-02  3.44167128e-02\n",
            "  1.40564460e-02  5.36593832e-02 -8.11265782e-02  1.98530555e-02\n",
            "  6.47893921e-02  3.55604105e-02  2.56001279e-02 -1.50564164e-02\n",
            "  7.09147304e-02  1.52340559e-02  7.82540888e-02  6.52845800e-02\n",
            "  3.63722332e-02 -2.72198059e-02  1.55786602e-02  1.80222269e-03\n",
            "  7.69016333e-03 -5.86925782e-02  1.34332562e-02  5.35811335e-02\n",
            "  2.55889054e-02  5.60116209e-02 -5.55271693e-02 -2.28457227e-02\n",
            "  7.41629768e-03 -4.42713983e-02 -1.07472420e-01  4.87723425e-02\n",
            "  6.49878010e-02  1.14614535e-02 -9.71630886e-02 -4.85532284e-02\n",
            "  4.83985879e-02 -7.21905753e-02  3.81441154e-02 -3.00272293e-02\n",
            "  1.92234907e-02  4.19519506e-02  6.81911707e-02  1.73736766e-01\n",
            "  2.94334907e-03  5.51208034e-02  1.24456664e-03  4.71882187e-02\n",
            " -6.90674558e-02  5.57264946e-02  2.89369263e-02  2.88218614e-02\n",
            "  1.25893801e-01  2.07049120e-02  3.41157503e-02  6.43065870e-02\n",
            " -3.49688493e-02  9.45390463e-02 -1.13972584e-02 -5.44577949e-02\n",
            "  6.52287155e-02  1.21337526e-01 -8.11199918e-02  6.47115987e-04\n",
            " -7.47642890e-02  4.04558890e-02 -4.83509712e-03  9.30874143e-03\n",
            " -5.32335751e-02 -3.53017375e-02 -8.13281089e-02 -4.06256020e-02\n",
            "  7.27517307e-02 -3.61136533e-02 -3.26100886e-02 -3.11435033e-02\n",
            " -6.58634230e-02 -2.35541407e-02  1.43835070e-02  2.18891595e-02\n",
            " -4.02607620e-02  1.69321261e-02 -1.05380185e-01  1.46149057e-33\n",
            " -8.35427921e-03 -7.32075870e-02 -5.38911819e-02 -4.56815809e-02\n",
            " -5.17168418e-02  8.35551098e-02 -3.35653871e-02  9.45804734e-03\n",
            " -5.60649261e-02  2.76823919e-02 -5.56898750e-02 -3.84847485e-02\n",
            "  5.01267891e-03  6.91301525e-02  8.58136173e-03 -2.11823359e-02\n",
            "  2.23342124e-02 -9.14119009e-04 -1.19348012e-01  6.15731534e-03\n",
            " -1.10357791e-01 -2.24317834e-02  2.99733169e-02 -1.27216568e-02\n",
            " -1.48127630e-01 -6.01625890e-02 -7.78792351e-02  3.58586572e-02\n",
            "  4.48417254e-02  6.31597117e-02 -2.56835390e-02 -3.86261232e-02\n",
            "  1.18083758e-02 -3.22885178e-02  3.52092385e-02  3.03912740e-02\n",
            "  2.18758620e-02 -4.66592088e-02  1.25062121e-02  1.78883467e-02\n",
            " -3.58624160e-02 -7.20641622e-03 -6.39005005e-02  2.48634834e-02\n",
            "  6.87854066e-02 -6.05091103e-04 -6.03555404e-02 -2.63410918e-02\n",
            " -7.22696707e-02 -2.45214254e-02  1.85951535e-02 -7.90958554e-02\n",
            " -2.33616307e-03 -3.59502807e-02  1.16699585e-03  1.22186802e-02\n",
            " -2.81298775e-02 -4.95220274e-02  4.18534726e-02 -4.77195084e-02\n",
            "  9.68539156e-03  1.20342234e-02  1.41644329e-02  9.62060317e-02\n",
            " -7.08713457e-02 -3.10496874e-02 -3.27268317e-02 -3.42933135e-03\n",
            "  3.71753760e-02 -1.50495977e-03  6.47398829e-02  1.10828027e-01\n",
            " -2.54465714e-02  4.05260623e-02 -8.99368376e-02  3.48554030e-02\n",
            "  9.27535444e-02  1.03130676e-01  4.71390374e-02 -2.83875167e-02\n",
            "  3.82835716e-02  1.08667098e-01  7.87373334e-02  8.32306501e-03\n",
            " -2.76975501e-02  2.97061671e-02 -3.33164446e-02 -2.03853101e-02\n",
            "  3.37163173e-02 -2.73651397e-03 -9.44463015e-02  1.65662393e-02\n",
            " -7.37490878e-02 -1.12260906e-02 -2.86385287e-02 -2.34494237e-08\n",
            " -3.68742310e-02  2.90568881e-02 -2.83968132e-02  3.61659043e-02\n",
            " -8.36986955e-03 -7.58813694e-02 -4.39456627e-02 -2.95886826e-02\n",
            " -5.99950105e-02  4.24339138e-02 -5.55496737e-02  7.02014044e-02\n",
            " -9.42958593e-02 -3.08221225e-02 -6.76486939e-02 -1.55573701e-02\n",
            " -6.94589913e-02 -7.36527294e-02  3.76340114e-02  1.29101453e-02\n",
            "  2.57284958e-02  3.40921730e-02  1.06145516e-02  5.26508354e-02\n",
            "  7.46900290e-02 -2.78802067e-02 -4.43031226e-04  3.34641412e-02\n",
            " -1.83146093e-02 -4.73978296e-02  3.08696218e-02 -6.55599013e-02\n",
            " -7.97261484e-03  8.20095614e-02  5.32784462e-02 -6.46961629e-02\n",
            " -2.82986108e-02 -2.20930949e-03  8.21083877e-03 -4.76118587e-02\n",
            " -9.64420568e-03 -2.73775272e-02  2.41501555e-02 -4.93361894e-03\n",
            "  2.05325149e-03 -4.14740220e-02  2.73497384e-02 -4.26132381e-02\n",
            "  2.36044936e-02  4.70057726e-02 -7.10694194e-02 -5.14483117e-02\n",
            " -1.96700282e-02  2.13321391e-02 -8.05792511e-02  3.10136843e-02\n",
            " -7.43103921e-02  3.36308815e-02 -8.47529527e-03  1.67055167e-02\n",
            "  1.65247303e-02  7.37113506e-02  9.97821614e-03  3.67403217e-02]\n"
          ]
        }
      ]
    },
    {
      "cell_type": "markdown",
      "source": [
        "### Retrieval System"
      ],
      "metadata": {
        "id": "rt7vm3fgyc_f"
      }
    },
    {
      "cell_type": "code",
      "source": [
        "query = \"What is Berlin known for?\"\n",
        "k=10\n",
        "#faiss_store.similarity_search_with_score(query,k)\n",
        "retrieved_docs = faiss_store.similarity_search(query,k)\n",
        "retrieved_docs"
      ],
      "metadata": {
        "colab": {
          "base_uri": "https://localhost:8080/"
        },
        "id": "yQlfrz6fx8WP",
        "outputId": "ab9c264f-b9a8-4df2-ec5a-64d9e4eda535"
      },
      "execution_count": 72,
      "outputs": [
        {
          "output_type": "execute_result",
          "data": {
            "text/plain": [
              "[Document(id='5b171391-c366-4d86-a314-54838967f073', metadata={}, page_content='Berlin is a major center for culture, politics, media, and science.'),\n",
              " Document(id='8278e6d9-589e-433b-807a-8d41123831b0', metadata={}, page_content='Berlin is known for its art scene and modern landmarks like the Berliner Philharmonie.'),\n",
              " Document(id='55d6653e-5840-4a18-9750-94d16aaa6dcd', metadata={}, page_content='Berlin is famous for its diverse architecture, ranging from historic buildings to modern structures.'),\n",
              " Document(id='00689df8-2ed6-4eaf-8765-e98bcfce9bb6', metadata={}, page_content='Berlin is the capital and largest city of Germany by both area and population.'),\n",
              " Document(id='85c31e85-684c-437e-8142-bb48b731a4a5', metadata={}, page_content='Berlin is known for its street art, with many murals and graffiti artworks around the city.'),\n",
              " Document(id='944b34c7-0e56-4bd0-b596-0085d88027ea', metadata={}, page_content='Berlin has a temperate seasonal climate.'),\n",
              " Document(id='e6a871ee-1b92-4cb1-a15a-3930f6d21eef', metadata={}, page_content=\"The Berlin Dungeon is a popular tourist attraction that offers a spooky look at the city's history.\"),\n",
              " Document(id='859e5e91-2694-4569-b96a-e0bfa5fc22af', metadata={}, page_content='Berlin is twinned with Los Angeles, California, USA.'),\n",
              " Document(id='89997e3b-834b-4554-9966-addf3472edc3', metadata={}, page_content='Berlin has a vibrant nightlife scene, with countless bars, clubs, and music venues.'),\n",
              " Document(id='96e416a7-7ddb-4bc3-a427-07acc8ed70c5', metadata={}, page_content=\"Berlin's Tiergarten is one of the largest urban parks in Germany.\")]"
            ]
          },
          "metadata": {},
          "execution_count": 72
        }
      ]
    },
    {
      "cell_type": "code",
      "source": [
        "# Build a function for retrieving document\n",
        "def get_relevant_documents(query, k=10):\n",
        "    return faiss_store.similarity_search(query,k)"
      ],
      "metadata": {
        "id": "JyJsrCmDyccu"
      },
      "execution_count": 73,
      "outputs": []
    },
    {
      "cell_type": "code",
      "source": [
        "query = \"Popular tourist destinations\"\n",
        "k=10\n",
        "get_relevant_documents(query,k)"
      ],
      "metadata": {
        "colab": {
          "base_uri": "https://localhost:8080/"
        },
        "id": "aNWVMyCKyetV",
        "outputId": "10ef4c00-4925-4451-da4e-28589d01beb1"
      },
      "execution_count": 74,
      "outputs": [
        {
          "output_type": "execute_result",
          "data": {
            "text/plain": [
              "[Document(id='3a978c7a-0ff7-4a3a-ac58-35a9567e766b', metadata={}, page_content=\"The city's Zoological Garden is the most visited zoo in Europe and one of the most popular worldwide.\"),\n",
              " Document(id='89997e3b-834b-4554-9966-addf3472edc3', metadata={}, page_content='Berlin has a vibrant nightlife scene, with countless bars, clubs, and music venues.'),\n",
              " Document(id='8278e6d9-589e-433b-807a-8d41123831b0', metadata={}, page_content='Berlin is known for its art scene and modern landmarks like the Berliner Philharmonie.'),\n",
              " Document(id='e6a871ee-1b92-4cb1-a15a-3930f6d21eef', metadata={}, page_content=\"The Berlin Dungeon is a popular tourist attraction that offers a spooky look at the city's history.\"),\n",
              " Document(id='25cd90dc-8dad-4d1e-9094-5c3a8744941b', metadata={}, page_content='The city hosts the Berlinale, one of the most prestigious international film festivals.'),\n",
              " Document(id='122e5a8c-1d73-49f6-844c-93576a883f43', metadata={}, page_content='Berlin has a strong cycling culture, with many dedicated bike lanes and bike-sharing programs.'),\n",
              " Document(id='4567c6fa-5958-4684-b892-c1a41fb0815d', metadata={}, page_content='Berlin has over 2,500 public parks and gardens.'),\n",
              " Document(id='55d6653e-5840-4a18-9750-94d16aaa6dcd', metadata={}, page_content='Berlin is famous for its diverse architecture, ranging from historic buildings to modern structures.'),\n",
              " Document(id='55c34ee1-1e07-4e18-a336-1c5ba8c65a41', metadata={}, page_content='The city has a large Turkish community, with many residents of Turkish descent.'),\n",
              " Document(id='eb820372-b3b5-4a79-8458-bdecb65de112', metadata={}, page_content='Berlin is known for its diverse culinary scene, including many vegan and vegetarian restaurants.')]"
            ]
          },
          "metadata": {},
          "execution_count": 74
        }
      ]
    },
    {
      "cell_type": "markdown",
      "source": [
        "## Generative System\n"
      ],
      "metadata": {
        "id": "AMPNIAfJzj0Z"
      }
    },
    {
      "cell_type": "code",
      "source": [
        "repo_id = \"microsoft/Phi-4\""
      ],
      "metadata": {
        "id": "2_0X9P_IzOiV"
      },
      "execution_count": 38,
      "outputs": []
    },
    {
      "cell_type": "code",
      "source": [
        "# Load the LLM\n",
        "llm = HuggingFaceEndpoint(\n",
        "    repo_id= repo_id,\n",
        "    task= \"text-generation\",\n",
        ")\n",
        "chat_model = ChatHuggingFace(llm=llm)"
      ],
      "metadata": {
        "id": "JwWst2LNzd-N"
      },
      "execution_count": 52,
      "outputs": []
    },
    {
      "cell_type": "code",
      "source": [
        "#Define the system and human message\n",
        "def generative_system(query, context):\n",
        "  messages = [\n",
        "      SystemMessage(content=f\"\"\"\n",
        "      You are a tour guide with a thick German Accent. Only Answer the informtion from the {context}\n",
        "      If you do not have infomation, reply polietly.\n",
        "      \"\"\"),\n",
        "      HumanMessage(content=f\"Answer the {query}\"),\n",
        "  ]\n",
        "  ai_output = chat_model.invoke(messages)\n",
        "  return display(Markdown(ai_output.content))\n"
      ],
      "metadata": {
        "id": "6Q9d1ErzzwGl"
      },
      "execution_count": 53,
      "outputs": []
    },
    {
      "cell_type": "markdown",
      "source": [
        "## Combining Retrieval and Generative System"
      ],
      "metadata": {
        "id": "cSXasyYw1StH"
      }
    },
    {
      "cell_type": "code",
      "source": [
        "def rag(query):\n",
        "  context = get_relevant_documents(query, k)\n",
        "  return generative_system(query, context)"
      ],
      "metadata": {
        "id": "VsUstK930LjN"
      },
      "execution_count": 54,
      "outputs": []
    },
    {
      "cell_type": "code",
      "source": [
        "rag(query = \"What is Berlin known for?\")"
      ],
      "metadata": {
        "colab": {
          "base_uri": "https://localhost:8080/",
          "height": 261
        },
        "id": "j15Ltnuj3fIL",
        "outputId": "72b62dc4-14fa-49ae-9a43-5ca9f6c98419"
      },
      "execution_count": 60,
      "outputs": [
        {
          "output_type": "display_data",
          "data": {
            "text/plain": [
              "<IPython.core.display.Markdown object>"
            ],
            "text/markdown": "Ah, Berlin! It is known for a ver-say of things indeed! 🇩🇪\n\n1. **Culture and Art** - Berlin is a major center for culture and art. The city boasts a vibrant art scene with modern landmarks such as the *Berliner Philharmonie*, and is forever famous for its street art and murals.\n\n2. **Architecture** - The architecture in Berlin is very diverse, ranging from historic buildings to striking modern structures. \n\n3. **Nightlife** - Ah, the nightlife! It is vibrant, filled with countless bars, clubs, and music venues.\n\n4. **History and Attractions** - For those interested in history, *The Berlin Dungeon* offers a spooky journey through the city’s past. And let's not forget about *The Tiergarten*, one of the largest urban parks, a perfect spot to relax.\n\n5. **Nature** - Berlin also offers temperate seasonal climates, so enjoy the seasons, from warm summers to snowy winters.\n\n6. **Geography** - Yes, Berlin is the capital and largest city of Germany by both area and population, making it a central hub of activity. \n\nSo, much to explore ja? Let us know if you need more details! 🌟"
          },
          "metadata": {}
        }
      ]
    },
    {
      "cell_type": "code",
      "source": [
        "rag(\"Fun thing about Berlin\")"
      ],
      "metadata": {
        "colab": {
          "base_uri": "https://localhost:8080/",
          "height": 98
        },
        "id": "56I5ciDS3Yva",
        "outputId": "3ea295fc-cb2c-4e08-bd65-1108c43a5bee"
      },
      "execution_count": 59,
      "outputs": [
        {
          "output_type": "display_data",
          "data": {
            "text/plain": [
              "<IPython.core.display.Markdown object>"
            ],
            "text/markdown": "Ah, you are asking about the fun things in Berlin! Berlin is truly a city full of excitement and entertainment. One of the most fun aspects is its vibrant nightlife, with countless bars, clubs, and music venues where you can dance all night. The city is also famous for its art scene—you'll find plenty of modern landmarks and a wealth of street art, with many stunning murals and graffiti artworks around town. Plus, don't miss the Berlin Dungeon for a spooky look at Berlin's history. There's always something exciting to do in Berlin! 🎉"
          },
          "metadata": {}
        }
      ]
    },
    {
      "cell_type": "code",
      "source": [
        "rag(\"What happens in Munich?\")"
      ],
      "metadata": {
        "colab": {
          "base_uri": "https://localhost:8080/",
          "height": 116
        },
        "id": "uUbuQl-P3T50",
        "outputId": "97f046ce-08d9-4d62-bae3-e4d859465802"
      },
      "execution_count": 58,
      "outputs": [
        {
          "output_type": "display_data",
          "data": {
            "text/plain": [
              "<IPython.core.display.Markdown object>"
            ],
            "text/markdown": "Ah, Munich! I am most knowledgeable about Berlin, but Munich is a vibrant city as well! In Munich, you would find the world-renowned Oktoberfest, one of the largest beer festivals in the world. It happens annually and attracts millions of visitors. You can enjoy traditional Bavarian music, delicious foods, and plenty of beer! Also, Munich has fantastic museums, like the Deutsches Museum and the BMW Museum, which show the innovative spirit of the city. The city is also known for its historic architecture and lively nightlife. If I had more details about Munich, I would be more than happy to share. Enjoy your stay, whether you're in Berlin or Munich! 🍺🎡"
          },
          "metadata": {}
        }
      ]
    },
    {
      "cell_type": "code",
      "source": [
        "rag(\"How far is Perth from Brisbane?\")"
      ],
      "metadata": {
        "colab": {
          "base_uri": "https://localhost:8080/",
          "height": 64
        },
        "id": "idt0NEhs2IoV",
        "outputId": "7eb889cc-ed8d-4526-9cb7-3ba5c8cb72ac"
      },
      "execution_count": 57,
      "outputs": [
        {
          "output_type": "display_data",
          "data": {
            "text/plain": [
              "<IPython.core.display.Markdown object>"
            ],
            "text/markdown": "Oh, I'm sorry, but I do not have information about the distance between Perth and Brisbane. As your friendly tour guide, I am here to provide details about Berlin and its vibrant history and attractions. If you have any questions about Berlin, I am more than happy to help! Danke schön! 🇩🇪"
          },
          "metadata": {}
        }
      ]
    },
    {
      "cell_type": "code",
      "source": [],
      "metadata": {
        "id": "67ab_Y8U2XRb"
      },
      "execution_count": null,
      "outputs": []
    }
  ]
}